{
 "cells": [
  {
   "cell_type": "markdown",
   "metadata": {},
   "source": [
    "# GUI based prediction of heart disease having or not"
   ]
  },
  {
   "cell_type": "code",
   "execution_count": 1,
   "metadata": {},
   "outputs": [],
   "source": [
    "from tkinter import *\n",
    "import numpy as np\n",
    "import pandas as pd\n",
    "import warnings \n",
    "warnings.filterwarnings('ignore')"
   ]
  },
  {
   "cell_type": "code",
   "execution_count": 2,
   "metadata": {},
   "outputs": [],
   "source": [
    "#Load given dataset\n",
    "data = pd.read_csv(\"heart.csv\")"
   ]
  },
  {
   "cell_type": "code",
   "execution_count": 3,
   "metadata": {},
   "outputs": [],
   "source": [
    "df=data.dropna()"
   ]
  },
  {
   "cell_type": "code",
   "execution_count": 4,
   "metadata": {},
   "outputs": [
    {
     "data": {
      "text/html": [
       "<div>\n",
       "<style scoped>\n",
       "    .dataframe tbody tr th:only-of-type {\n",
       "        vertical-align: middle;\n",
       "    }\n",
       "\n",
       "    .dataframe tbody tr th {\n",
       "        vertical-align: top;\n",
       "    }\n",
       "\n",
       "    .dataframe thead th {\n",
       "        text-align: right;\n",
       "    }\n",
       "</style>\n",
       "<table border=\"1\" class=\"dataframe\">\n",
       "  <thead>\n",
       "    <tr style=\"text-align: right;\">\n",
       "      <th></th>\n",
       "      <th>age</th>\n",
       "      <th>sex</th>\n",
       "      <th>cp</th>\n",
       "      <th>trestbps</th>\n",
       "      <th>chol</th>\n",
       "      <th>fbs</th>\n",
       "      <th>restecg</th>\n",
       "      <th>thalach</th>\n",
       "      <th>exang</th>\n",
       "      <th>oldpeak</th>\n",
       "      <th>slope</th>\n",
       "      <th>ca</th>\n",
       "      <th>thal</th>\n",
       "      <th>target</th>\n",
       "    </tr>\n",
       "  </thead>\n",
       "  <tbody>\n",
       "    <tr>\n",
       "      <td>0</td>\n",
       "      <td>63</td>\n",
       "      <td>1</td>\n",
       "      <td>3</td>\n",
       "      <td>145</td>\n",
       "      <td>233</td>\n",
       "      <td>1</td>\n",
       "      <td>0</td>\n",
       "      <td>150</td>\n",
       "      <td>0</td>\n",
       "      <td>2.3</td>\n",
       "      <td>0</td>\n",
       "      <td>0</td>\n",
       "      <td>1</td>\n",
       "      <td>1</td>\n",
       "    </tr>\n",
       "    <tr>\n",
       "      <td>1</td>\n",
       "      <td>37</td>\n",
       "      <td>1</td>\n",
       "      <td>2</td>\n",
       "      <td>130</td>\n",
       "      <td>250</td>\n",
       "      <td>0</td>\n",
       "      <td>1</td>\n",
       "      <td>187</td>\n",
       "      <td>0</td>\n",
       "      <td>3.5</td>\n",
       "      <td>0</td>\n",
       "      <td>0</td>\n",
       "      <td>2</td>\n",
       "      <td>1</td>\n",
       "    </tr>\n",
       "    <tr>\n",
       "      <td>2</td>\n",
       "      <td>41</td>\n",
       "      <td>0</td>\n",
       "      <td>1</td>\n",
       "      <td>130</td>\n",
       "      <td>204</td>\n",
       "      <td>0</td>\n",
       "      <td>0</td>\n",
       "      <td>172</td>\n",
       "      <td>0</td>\n",
       "      <td>1.4</td>\n",
       "      <td>2</td>\n",
       "      <td>0</td>\n",
       "      <td>2</td>\n",
       "      <td>1</td>\n",
       "    </tr>\n",
       "    <tr>\n",
       "      <td>3</td>\n",
       "      <td>56</td>\n",
       "      <td>1</td>\n",
       "      <td>1</td>\n",
       "      <td>120</td>\n",
       "      <td>236</td>\n",
       "      <td>0</td>\n",
       "      <td>1</td>\n",
       "      <td>178</td>\n",
       "      <td>0</td>\n",
       "      <td>0.8</td>\n",
       "      <td>2</td>\n",
       "      <td>0</td>\n",
       "      <td>2</td>\n",
       "      <td>1</td>\n",
       "    </tr>\n",
       "    <tr>\n",
       "      <td>4</td>\n",
       "      <td>57</td>\n",
       "      <td>0</td>\n",
       "      <td>0</td>\n",
       "      <td>120</td>\n",
       "      <td>354</td>\n",
       "      <td>0</td>\n",
       "      <td>1</td>\n",
       "      <td>163</td>\n",
       "      <td>1</td>\n",
       "      <td>0.6</td>\n",
       "      <td>2</td>\n",
       "      <td>0</td>\n",
       "      <td>2</td>\n",
       "      <td>1</td>\n",
       "    </tr>\n",
       "  </tbody>\n",
       "</table>\n",
       "</div>"
      ],
      "text/plain": [
       "   age  sex  cp  trestbps  chol  fbs  restecg  thalach  exang  oldpeak  slope  \\\n",
       "0   63    1   3       145   233    1        0      150      0      2.3      0   \n",
       "1   37    1   2       130   250    0        1      187      0      3.5      0   \n",
       "2   41    0   1       130   204    0        0      172      0      1.4      2   \n",
       "3   56    1   1       120   236    0        1      178      0      0.8      2   \n",
       "4   57    0   0       120   354    0        1      163      1      0.6      2   \n",
       "\n",
       "   ca  thal  target  \n",
       "0   0     1       1  \n",
       "1   0     2       1  \n",
       "2   0     2       1  \n",
       "3   0     2       1  \n",
       "4   0     2       1  "
      ]
     },
     "execution_count": 4,
     "metadata": {},
     "output_type": "execute_result"
    }
   ],
   "source": [
    "df.head()"
   ]
  },
  {
   "cell_type": "code",
   "execution_count": 5,
   "metadata": {},
   "outputs": [],
   "source": [
    "df['Age_Ab_10'] = df[\"age\"].map({63:0, 37:0, 41:0, 56:0, 57:0, 44:0, 52:0, 54:0, 48:0, 49:0, 64:0, 58:0, 50:0, 66:0, 43:0, 69:0,\n",
    "59:0,42:0, 61:0, 40:0, 71:0, 51:0, 65:0, 53:0, 46:0, 45:0, 39:0, 47:0, 62:0, 34:0, 35:0, 29:0, 55:0, 60:0,67:0, 68:0, 74:0,\n",
    "76:0, 70:0, 38:0, 77:0})\n",
    "\n",
    "df['Age_Ab_20'] = df[\"age\"].map({63:0, 37:0, 41:0, 56:0, 57:0, 44:0, 52:0, 54:0, 48:0, 49:0, 64:0, 58:0, 50:0, 66:0, 43:0, 69:0,\n",
    "59:0,42:0, 61:0, 40:0, 71:0, 51:0, 65:0, 53:0, 46:0, 45:0, 39:0, 47:0, 62:0, 34:0, 35:0, 29:1, 55:0, 60:0,67:0, 68:0, 74:0,\n",
    "76:0, 70:0, 38:0, 77:0})\n",
    "\n",
    "df['Age_Ab_30'] = df[\"age\"].map({63:0, 37:1, 41:0, 56:0, 57:0, 44:0, 52:0, 54:0, 48:0, 49:0, 64:0, 58:0, 50:0, 66:0, 43:0, 69:0,\n",
    "59:0,42:0, 61:0, 40:0, 71:0, 51:0, 65:0, 53:0, 46:0, 45:0, 39:1, 47:0, 62:0, 34:1, 35:1, 29:0, 55:0, 60:0,67:0, 68:0, 74:0,\n",
    "76:0, 70:0, 38:1, 77:0})\n",
    "\n",
    "df['Age_Ab_40'] = df[\"age\"].map({63:0, 37:0, 41:1, 56:0, 57:0, 44:1, 52:0, 54:0, 48:1, 49:1, 64:0, 58:0, 50:0, 66:0, 43:1, 69:0,\n",
    "59:0,42:1, 61:0, 40:1, 71:0, 51:0, 65:0, 53:0, 46:1, 45:1, 39:0, 47:1, 62:0, 34:0, 35:0, 29:0, 55:0, 60:0,67:0, 68:0, 74:0,\n",
    "76:0, 70:0, 38:0, 77:0})\n",
    "\n",
    "df['Age_Ab_50'] = df[\"age\"].map({63:0, 37:0, 41:0, 56:1, 57:1, 44:0, 52:1, 54:1, 48:0, 49:0, 64:0, 58:1, 50:1, 66:0, 43:0, 69:0,\n",
    "59:1,42:0, 61:0, 40:0, 71:0, 51:1, 65:0, 53:1, 46:0, 45:0, 39:0, 47:0, 62:0, 34:0, 35:0, 29:0, 55:1, 60:0,67:0, 68:0, 74:0,\n",
    "76:0, 70:0, 38:0, 77:0})\n",
    "\n",
    "df['Age_Ab_60'] = df[\"age\"].map({63:1, 37:0, 41:0, 56:0, 57:0, 44:0, 52:0, 54:0, 48:0, 49:0, 64:1, 58:0, 50:0, 66:1, 43:0, 69:1,\n",
    "59:0,42:0, 61:1, 40:0, 71:0, 51:0, 65:1, 53:0, 46:0, 45:0, 39:0, 47:0, 62:1, 34:0, 35:0, 29:0, 55:0, 60:1,67:1, 68:1, 74:0,\n",
    "76:0, 70:0, 38:0, 77:0})\n",
    "\n",
    "df['Age_Ab_70'] = df[\"age\"].map({63:0, 37:0, 41:0, 56:0, 57:0, 44:0, 52:0, 54:0, 48:0, 49:0, 64:0, 58:0, 50:0, 66:0, 43:0, 69:0,\n",
    "59:0,42:0, 61:0, 40:0, 71:1, 51:0, 65:0, 53:0, 46:0, 45:0, 39:0, 47:0, 62:0, 34:0, 35:0, 29:0, 55:0, 60:0,67:0, 68:0, 74:1,\n",
    "76:1, 70:1, 38:0, 77:1})\n"
   ]
  },
  {
   "cell_type": "code",
   "execution_count": 6,
   "metadata": {},
   "outputs": [],
   "source": [
    "del df[\"age\"]"
   ]
  },
  {
   "cell_type": "code",
   "execution_count": 7,
   "metadata": {},
   "outputs": [],
   "source": [
    "df['Male'] = df[\"sex\"].map({1:1, 0:0})\n",
    "df['Female'] = df[\"sex\"].map({1:0, 0:1})"
   ]
  },
  {
   "cell_type": "code",
   "execution_count": 8,
   "metadata": {},
   "outputs": [],
   "source": [
    "del df['sex']"
   ]
  },
  {
   "cell_type": "code",
   "execution_count": 9,
   "metadata": {},
   "outputs": [],
   "source": [
    "df['BP_Bl_100'] = df[\"trestbps\"].map({145:0, 130:0, 120:0, 140:0, 172:0, 150:0, 110:0, 135:0, 160:0, 105:0, 125:0, 142:0,\n",
    "155:0,104:0, 138:0, 128:0, 108:0, 134:0, 122:0, 115:0, 118:0, 100:0, 124:0,  94:1, 112:0, 102:0,\n",
    "152:0, 101:0, 132:0, 148:0, 178:0, 129:0, 180:0, 136:0, 126:0, 106:0, 156:0, 170:0, 146:0,\n",
    "117:0, 200:0, 165:0, 174:0, 192:0, 144:0, 123:0, 154:0, 114:0, 164:0})\n",
    "\n",
    "df['BP_Ab_100'] = df[\"trestbps\"].map({145:0, 130:0, 120:0, 140:0, 172:0, 150:0, 110:0, 135:0, 160:0, 105:1, 125:0, 142:0,\n",
    "155:0,104:1, 138:0, 128:0, 108:1, 134:0, 122:0, 115:0, 118:0, 100:1, 124:0,  94:0, 112:0, 102:1,\n",
    "       152:0, 101:1, 132:0, 148:0, 178:0, 129:0, 180:0, 136:0, 126:0, 106:1, 156:0, 170:0, 146:0,\n",
    "       117:0, 200:0, 165:0, 174:0, 192:0, 144:0, 123:0, 154:0, 114:0, 164:0})\n",
    "\n",
    "df['BP_Ab_110'] = df[\"trestbps\"].map({145:0, 130:0, 120:0, 140:0, 172:0, 150:0, 110:1, 135:0, 160:0, 105:0, 125:0, 142:0,\n",
    "155:0,104:0, 138:0, 128:0, 108:0, 134:0, 122:0, 115:1, 118:1, 100:0, 124:0,  94:0, 112:1, 102:0,\n",
    "       152:0, 101:0, 132:0, 148:0, 178:0, 129:0, 180:0, 136:0, 126:0, 106:0, 156:0, 170:0, 146:0,\n",
    "       117:1, 200:0, 165:0, 174:0, 192:0, 144:0, 123:0, 154:0, 114:1, 164:0})\n",
    "\n",
    "df['BP_Ab_120'] = df[\"trestbps\"].map({145:0, 130:0, 120:1, 140:0, 172:0, 150:0, 110:0, 135:0, 160:0, 105:0, 125:1, 142:0,\n",
    "155:0,104:0, 138:0, 128:1, 108:0, 134:0, 122:1, 115:0, 118:0, 100:0, 124:1,  94:0, 112:0, 102:0,\n",
    "       152:0, 101:0, 132:0, 148:0, 178:0, 129:1, 180:0, 136:0, 126:1, 106:0, 156:0, 170:0, 146:0,\n",
    "       117:0, 200:0, 165:0, 174:0, 192:0, 144:0, 123:1, 154:0, 114:0, 164:0})\n",
    "\n",
    "df['BP_Ab_130'] = df[\"trestbps\"].map({145:0, 130:1, 120:0, 140:0, 172:0, 150:0, 110:0, 135:1, 160:0, 105:0, 125:0, 142:0,\n",
    "155:0,104:0, 138:1, 128:0, 108:0, 134:1, 122:0, 115:0, 118:0, 100:0, 124:0,  94:0, 112:0, 102:0,\n",
    "       152:0, 101:0, 132:1, 148:0, 178:0, 129:0, 180:0, 136:1, 126:0, 106:0, 156:0, 170:0, 146:0,\n",
    "       117:0, 200:0, 165:0, 174:0, 192:0, 144:0, 123:0, 154:0, 114:0, 164:0})\n",
    "\n",
    "df['BP_Ab_140'] = df[\"trestbps\"].map({145:1, 130:0, 120:0, 140:1, 172:0, 150:0, 110:0, 135:0, 160:0, 105:0, 125:0, 142:1,\n",
    "155:0,104:0, 138:0, 128:0, 108:0, 134:0, 122:0, 115:0, 118:0, 100:0, 124:0,  94:0, 112:0, 102:0,\n",
    "       152:0, 101:0, 132:0, 148:1, 178:0, 129:0, 180:0, 136:0, 126:0, 106:0, 156:0, 170:0, 146:1,\n",
    "       117:0, 200:0, 165:0, 174:0, 192:0, 144:1, 123:0, 154:0, 114:0, 164:0})\n",
    "\n",
    "df['BPs_Ab_150'] = df[\"trestbps\"].map({145:0, 130:0, 120:0, 140:0, 172:0, 150:1, 110:0, 135:0, 160:0, 105:0, 125:0, 142:0,\n",
    "155:1,104:0, 138:0, 128:0, 108:0, 134:0, 122:0, 115:0, 118:0, 100:0, 124:0,  94:0, 112:0, 102:0,\n",
    "       152:1, 101:0, 132:0, 148:0, 178:0, 129:0, 180:0, 136:0, 126:0, 106:0, 156:1, 170:0, 146:0,\n",
    "       117:0, 200:0, 165:0, 174:0, 192:0, 144:0, 123:0, 154:1, 114:0, 164:0})\n",
    "\n",
    "df['BP_Ab_160'] = df[\"trestbps\"].map({145:0, 130:0, 120:0, 140:0, 172:0, 150:0, 110:0, 135:0, 160:1, 105:0, 125:0, 142:0,\n",
    "155:0,104:0, 138:0, 128:0, 108:0, 134:0, 122:0, 115:0, 118:0, 100:0, 124:0,  94:0, 112:0, 102:0,\n",
    "       152:0, 101:0, 132:0, 148:0, 178:0, 129:0, 180:0, 136:0, 126:0, 106:0, 156:0, 170:0, 146:0,\n",
    "       117:0, 200:0, 165:1, 174:0, 192:0, 144:0, 123:0, 154:0, 114:0, 164:1})\n",
    "\n",
    "df['BP_Ab_170'] = df[\"trestbps\"].map({145:0, 130:0, 120:0, 140:0, 172:1, 150:0, 110:0, 135:0, 160:0, 105:0, 125:0, 142:0,\n",
    "155:0,104:0, 138:0, 128:0, 108:0, 134:0, 122:0, 115:0, 118:0, 100:0, 124:0,  94:0, 112:0, 102:0,\n",
    "       152:0, 101:0, 132:0, 148:0, 178:1, 129:0, 180:0, 136:0, 126:0, 106:0, 156:0, 170:1, 146:0,\n",
    "       117:0, 200:0, 165:0, 174:1, 192:0, 144:0, 123:0, 154:0, 114:0, 164:0})\n",
    "\n",
    "df['BPs_Ab_180'] = df[\"trestbps\"].map({145:0, 130:0, 120:0, 140:0, 172:0, 150:0, 110:0, 135:0, 160:0, 105:0, 125:0, 142:0,\n",
    "155:0,104:0, 138:0, 128:0, 108:0, 134:0, 122:0, 115:0, 118:0, 100:0, 124:0,  94:0, 112:0, 102:0,\n",
    "       152:0, 101:0, 132:0, 148:0, 178:0, 129:0, 180:1, 136:0, 126:0, 106:0, 156:0, 170:0, 146:0,\n",
    "       117:0, 200:0, 165:0, 174:0, 192:0, 144:0, 123:0, 154:0, 114:0, 164:0})\n",
    "\n",
    "df['BP_Ab_190'] = df[\"trestbps\"].map({145:0, 130:0, 120:0, 140:0, 172:0, 150:0, 110:0, 135:0, 160:0, 105:0, 125:0, 142:0,\n",
    "155:0,104:0, 138:0, 128:0, 108:0, 134:0, 122:0, 115:0, 118:0, 100:0, 124:0,  94:0, 112:0, 102:0,\n",
    "       152:0, 101:0, 132:0, 148:0, 178:0, 129:0, 180:0, 136:0, 126:0, 106:0, 156:0, 170:0, 146:0,\n",
    "       117:0, 200:1, 165:0, 174:0, 192:1, 144:0, 123:0, 154:0, 114:0, 164:0})\n"
   ]
  },
  {
   "cell_type": "code",
   "execution_count": 10,
   "metadata": {},
   "outputs": [],
   "source": [
    "del df['trestbps']"
   ]
  },
  {
   "cell_type": "code",
   "execution_count": 11,
   "metadata": {},
   "outputs": [],
   "source": [
    "df['FBS_Ab_120(mg/dl)'] = df[\"fbs\"].map({1:1, 0:0})\n",
    "df['FBS_Bl_120(mg/dl)'] = df[\"fbs\"].map({1:0, 0:1})"
   ]
  },
  {
   "cell_type": "code",
   "execution_count": 12,
   "metadata": {},
   "outputs": [],
   "source": [
    "del df['fbs']"
   ]
  },
  {
   "cell_type": "code",
   "execution_count": 13,
   "metadata": {},
   "outputs": [],
   "source": [
    "df['chest_pain'] = df[\"cp\"].map({3:'Asymptomatic', 2:'Non_Anginal_Pain', 1:'Atypical_Angina', 0:'Typical_Angina'})"
   ]
  },
  {
   "cell_type": "code",
   "execution_count": 14,
   "metadata": {},
   "outputs": [],
   "source": [
    "df['Typical_Angina'] = df[\"chest_pain\"].map({'Asymptomatic':0, 'Non_Anginal_Pain':0, 'Atypical_Angina':0,'Typical_Angina':1})\n",
    "df['Atypical_Angina'] = df[\"chest_pain\"].map({'Asymptomatic':0, 'Non_Anginal_Pain':0, 'Atypical_Angina':1,'Typical_Angina':0})\n",
    "df['Non_Anginal_Pain'] = df[\"chest_pain\"].map({'Asymptomatic':0, 'Non_Anginal_Pain':1, 'Atypical_Angina':0,'Typical_Angina':0})\n",
    "df['Asymptomatic'] = df[\"chest_pain\"].map({'Asymptomatic':1, 'Non_Anginal_Pain':0, 'Atypical_Angina':0,'Typical_Angina':0})"
   ]
  },
  {
   "cell_type": "code",
   "execution_count": 15,
   "metadata": {},
   "outputs": [],
   "source": [
    "del df['cp']\n",
    "del df['chest_pain']"
   ]
  },
  {
   "cell_type": "code",
   "execution_count": 16,
   "metadata": {},
   "outputs": [],
   "source": [
    "df['cholestoral'] = df[\"chol\"].map({233:'Ch_Ab_200', 250:'Ch_Ab_250', 204:'Ch_Ab_200', 236:'Ch_Ab_200', 354:'Ch_Ab_350',\n",
    "192:'Ch_Ab_150', 294:'Ch_Ab_250', 263:'Ch_Ab_250', 199:'Ch_Ab_150', 168:'Ch_Ab_150', 239:'Ch_Ab_200', 275:'Ch_Ab_250',\n",
    "266:'Ch_Ab_500',\n",
    "211:'Ch_Ab_200', 283:'Ch_Ab_250', 219:'Ch_Ab_200', 340:'Ch_Ab_300', 226:'Ch_Ab_200', 247:'Ch_Ab_200', 234:'Ch_Ab_200',\n",
    "243:'Ch_Ab_200', 302:'Ch_Ab_300', 212:'Ch_Ab_200', 175:'Ch_Ab_150', 417:'Ch_Ab_400', 197:'Ch_Ab_150',\n",
    "198:'Ch_Ab_150', 177:'Ch_Ab_150', 273:'Ch_Ab_250', 213:'Ch_Ab_200', 304:'Ch_Ab_300', 232:'Ch_Ab_200', 269:'Ch_Ab_250', \n",
    "360:'Ch_Ab_350', 308:'Ch_Ab_300', 245:'Ch_Ab_200', 208:'Ch_Ab_200', 264:'Ch_Ab_250', 321:'Ch_Ab_300',\n",
    "325:'Ch_Ab_300', 235:'Ch_Ab_200', 257:'Ch_Ab_250', 216:'Ch_Ab_200', 256:'Ch_Ab_250', 231:'Ch_Ab_200', 141:'Ch_Ab_100',\n",
    "252:'Ch_Ab_250', 201:'Ch_Ab_200', 222:'Ch_Ab_200', 260:'Ch_Ab_250', 182:'Ch_Ab_150', 303:'Ch_Ab_300',\n",
    "265:'Ch_Ab_250', 309:'Ch_Ab_300', 186:'Ch_Ab_150', 203:'Ch_Ab_200', 183:'Ch_Ab_150', 220:'Ch_Ab_200', 209:'Ch_Ab_200',\n",
    "258:'Ch_Ab_250', 227:'Ch_Ab_200', 261:'Ch_Ab_250', 221:'Ch_Ab_200', 205:'Ch_Ab_200', 240:'Ch_Ab_200',\n",
    "318:'Ch_Ab_300', 298:'Ch_Ab_250', 564:'Ch_Ab_500', 277:'Ch_Ab_250', 214:'Ch_Ab_200', 248:'Ch_Ab_200', 255:'Ch_Ab_250',\n",
    "207:'Ch_Ab_200', 223:'Ch_Ab_200', 288:'Ch_Ab_250', 160:'Ch_Ab_150', 394:'Ch_Ab_350', 315:'Ch_Ab_300',\n",
    "246:'Ch_Ab_200', 244:'Ch_Ab_200', 270:'Ch_Ab_250', 195:'Ch_Ab_150', 196:'Ch_Ab_150', 254:'Ch_Ab_250', 126:'Ch_Ab_100', \n",
    "313:'Ch_Ab_300', 262:'Ch_Ab_250', 215:'Ch_Ab_200', 193:'Ch_Ab_150', 271:'Ch_Ab_250', 268:'Ch_Ab_200',\n",
    "267:'Ch_Ab_250', 210:'Ch_Ab_200', 295:'Ch_Ab_250', 306:'Ch_Ab_300', 178:'Ch_Ab_150', 242:'Ch_Ab_200', 180:'Ch_Ab_150',\n",
    "228:'Ch_Ab_200', 149:'Ch_Ab_100', 278:'Ch_Ab_250', 253:'Ch_Ab_250', 342:'Ch_Ab_300', 157:'Ch_Ab_150',\n",
    "286:'Ch_Ab_250', 229:'Ch_Ab_200', 284:'Ch_Ab_250', 224:'Ch_Ab_200', 206:'Ch_Ab_200', 167:'Ch_Ab_150', 230:'Ch_Ab_200',\n",
    "335:'Ch_Ab_300', 276:'Ch_Ab_250', 353:'Ch_Ab_350', 225:'Ch_Ab_200', 330:'Ch_Ab_300', 290:'Ch_Ab_250',\n",
    "172:'Ch_Ab_150', 305:'Ch_Ab_300', 188:'Ch_Ab_150', 282:'Ch_Ab_250', 185:'Ch_Ab_150', 326:'Ch_Ab_300', 274:'Ch_Ab_250', \n",
    "164:'Ch_Ab_250', 307:'Ch_Ab_300', 249:'Ch_Ab_200', 341:'Ch_Ab_300', 407:'Ch_Ab_400', 217:'Ch_Ab_200',\n",
    "174:'Ch_Ab_250', 281:'Ch_Ab_250', 289:'Ch_Ab_250', 322:'Ch_Ab_300', 299:'Ch_Ab_250', 300:'Ch_Ab_300', 293:'Ch_Ab_250', \n",
    "184:'Ch_Ab_250', 409:'Ch_Ab_400', 259:'Ch_Ab_250', 200:'Ch_Ab_200', 327:'Ch_Ab_300', 237:'Ch_Ab_200',\n",
    "218:'Ch_Ab_200', 319:'Ch_Ab_300', 166:'Ch_Ab_150', 311:'Ch_Ab_300', 169:'Ch_Ab_150', 187:'Ch_Ab_150', 176:'Ch_Ab_150',\n",
    "241:'Ch_Ab_200', 131:'Ch_Ab_100'})"
   ]
  },
  {
   "cell_type": "code",
   "execution_count": 17,
   "metadata": {},
   "outputs": [],
   "source": [
    "del df['chol']"
   ]
  },
  {
   "cell_type": "code",
   "execution_count": 18,
   "metadata": {},
   "outputs": [],
   "source": [
    "df['Ch_Ab_200'] = df[\"cholestoral\"].map({'Ch_Ab_200':1, 'Ch_Ab_250':0, 'Ch_Ab_350':0, 'Ch_Ab_150':0, 'Ch_Ab_500':0,\n",
    "       'Ch_Ab_300':0, 'Ch_Ab_400':0, 'Ch_Ab_100':0})\n",
    "\n",
    "df['Ch_Ab_250'] = df[\"cholestoral\"].map({'Ch_Ab_200':0, 'Ch_Ab_250':1, 'Ch_Ab_350':0, 'Ch_Ab_150':0, 'Ch_Ab_500':0,\n",
    "       'Ch_Ab_300':0, 'Ch_Ab_400':0, 'Ch_Ab_100':0})\n",
    "\n",
    "df['Ch_Ab_350'] = df[\"cholestoral\"].map({'Ch_Ab_200':0, 'Ch_Ab_250':0, 'Ch_Ab_350':1, 'Ch_Ab_150':0, 'Ch_Ab_500':0,\n",
    "       'Ch_Ab_300':0, 'Ch_Ab_400':0, 'Ch_Ab_100':0})\n",
    "\n",
    "df['Ch_Ab_150'] = df[\"cholestoral\"].map({'Ch_Ab_200':0, 'Ch_Ab_250':0, 'Ch_Ab_350':0, 'Ch_Ab_150':1, 'Ch_Ab_500':0,\n",
    "       'Ch_Ab_300':0, 'Ch_Ab_400':0, 'Ch_Ab_100':0})\n",
    "\n",
    "df['Ch_Ab_500'] = df[\"cholestoral\"].map({'Ch_Ab_200':0, 'Ch_Ab_250':0, 'Ch_Ab_350':0, 'Ch_Ab_150':0, 'Ch_Ab_500':1,\n",
    "       'Ch_Ab_300':0, 'Ch_Ab_400':0, 'Ch_Ab_100':0})\n",
    "\n",
    "df['Ch_Ab_300'] = df[\"cholestoral\"].map({'Ch_Ab_200':0, 'Ch_Ab_250':0, 'Ch_Ab_350':0, 'Ch_Ab_150':0, 'Ch_Ab_500':0,\n",
    "       'Ch_Ab_300':1, 'Ch_Ab_400':0, 'Ch_Ab_100':0})\n",
    "\n",
    "df['Ch_Ab_400'] = df[\"cholestoral\"].map({'Ch_Ab_200':0, 'Ch_Ab_250':0, 'Ch_Ab_350':0, 'Ch_Ab_150':0, 'Ch_Ab_500':0,\n",
    "       'Ch_Ab_300':0, 'Ch_Ab_400':1, 'Ch_Ab_100':0})\n",
    "\n",
    "df['Ch_Ab_100'] = df[\"cholestoral\"].map({'Ch_Ab_200':0, 'Ch_Ab_250':0, 'Ch_Ab_350':0, 'Ch_Ab_150':0, 'Ch_Ab_500':0,\n",
    "       'Ch_Ab_300':0, 'Ch_Ab_400':0, 'Ch_Ab_100':1})"
   ]
  },
  {
   "cell_type": "code",
   "execution_count": 19,
   "metadata": {},
   "outputs": [],
   "source": [
    "del df['cholestoral']"
   ]
  },
  {
   "cell_type": "code",
   "execution_count": 20,
   "metadata": {},
   "outputs": [],
   "source": [
    "df['Up_Sloping'] = df[\"slope\"].map({0:1, 2:0, 1:0})\n",
    "df['Flat'] = df[\"slope\"].map({0:0, 2:0, 1:1})\n",
    "df['Down_Sloping'] = df[\"slope\"].map({0:0, 2:1, 1:0})"
   ]
  },
  {
   "cell_type": "code",
   "execution_count": 21,
   "metadata": {},
   "outputs": [],
   "source": [
    "del df['slope']\n",
    "del df['thalach']\n",
    "del df['exang']\n",
    "del df['oldpeak']\n",
    "del df['ca']\n",
    "del df['thal']"
   ]
  },
  {
   "cell_type": "code",
   "execution_count": 22,
   "metadata": {},
   "outputs": [],
   "source": [
    "df['Normal'] = df[\"restecg\"].map({0:1, 1:0, 2:0})\n",
    "df['Abnormality'] = df[\"restecg\"].map({0:0, 1:1, 2:0})\n",
    "df['Ventricular_hypertrophy'] = df[\"restecg\"].map({0:0, 1:0, 2:1})"
   ]
  },
  {
   "cell_type": "code",
   "execution_count": 23,
   "metadata": {},
   "outputs": [],
   "source": [
    "del df['restecg']"
   ]
  },
  {
   "cell_type": "code",
   "execution_count": 24,
   "metadata": {},
   "outputs": [
    {
     "data": {
      "text/html": [
       "<div>\n",
       "<style scoped>\n",
       "    .dataframe tbody tr th:only-of-type {\n",
       "        vertical-align: middle;\n",
       "    }\n",
       "\n",
       "    .dataframe tbody tr th {\n",
       "        vertical-align: top;\n",
       "    }\n",
       "\n",
       "    .dataframe thead th {\n",
       "        text-align: right;\n",
       "    }\n",
       "</style>\n",
       "<table border=\"1\" class=\"dataframe\">\n",
       "  <thead>\n",
       "    <tr style=\"text-align: right;\">\n",
       "      <th></th>\n",
       "      <th>target</th>\n",
       "      <th>Age_Ab_10</th>\n",
       "      <th>Age_Ab_20</th>\n",
       "      <th>Age_Ab_30</th>\n",
       "      <th>Age_Ab_40</th>\n",
       "      <th>Age_Ab_50</th>\n",
       "      <th>Age_Ab_60</th>\n",
       "      <th>Age_Ab_70</th>\n",
       "      <th>Male</th>\n",
       "      <th>Female</th>\n",
       "      <th>...</th>\n",
       "      <th>Ch_Ab_500</th>\n",
       "      <th>Ch_Ab_300</th>\n",
       "      <th>Ch_Ab_400</th>\n",
       "      <th>Ch_Ab_100</th>\n",
       "      <th>Up_Sloping</th>\n",
       "      <th>Flat</th>\n",
       "      <th>Down_Sloping</th>\n",
       "      <th>Normal</th>\n",
       "      <th>Abnormality</th>\n",
       "      <th>Ventricular_hypertrophy</th>\n",
       "    </tr>\n",
       "  </thead>\n",
       "  <tbody>\n",
       "    <tr>\n",
       "      <td>0</td>\n",
       "      <td>1</td>\n",
       "      <td>0</td>\n",
       "      <td>0</td>\n",
       "      <td>0</td>\n",
       "      <td>0</td>\n",
       "      <td>0</td>\n",
       "      <td>1</td>\n",
       "      <td>0</td>\n",
       "      <td>1</td>\n",
       "      <td>0</td>\n",
       "      <td>...</td>\n",
       "      <td>0</td>\n",
       "      <td>0</td>\n",
       "      <td>0</td>\n",
       "      <td>0</td>\n",
       "      <td>1</td>\n",
       "      <td>0</td>\n",
       "      <td>0</td>\n",
       "      <td>1</td>\n",
       "      <td>0</td>\n",
       "      <td>0</td>\n",
       "    </tr>\n",
       "    <tr>\n",
       "      <td>1</td>\n",
       "      <td>1</td>\n",
       "      <td>0</td>\n",
       "      <td>0</td>\n",
       "      <td>1</td>\n",
       "      <td>0</td>\n",
       "      <td>0</td>\n",
       "      <td>0</td>\n",
       "      <td>0</td>\n",
       "      <td>1</td>\n",
       "      <td>0</td>\n",
       "      <td>...</td>\n",
       "      <td>0</td>\n",
       "      <td>0</td>\n",
       "      <td>0</td>\n",
       "      <td>0</td>\n",
       "      <td>1</td>\n",
       "      <td>0</td>\n",
       "      <td>0</td>\n",
       "      <td>0</td>\n",
       "      <td>1</td>\n",
       "      <td>0</td>\n",
       "    </tr>\n",
       "    <tr>\n",
       "      <td>2</td>\n",
       "      <td>1</td>\n",
       "      <td>0</td>\n",
       "      <td>0</td>\n",
       "      <td>0</td>\n",
       "      <td>1</td>\n",
       "      <td>0</td>\n",
       "      <td>0</td>\n",
       "      <td>0</td>\n",
       "      <td>0</td>\n",
       "      <td>1</td>\n",
       "      <td>...</td>\n",
       "      <td>0</td>\n",
       "      <td>0</td>\n",
       "      <td>0</td>\n",
       "      <td>0</td>\n",
       "      <td>0</td>\n",
       "      <td>0</td>\n",
       "      <td>1</td>\n",
       "      <td>1</td>\n",
       "      <td>0</td>\n",
       "      <td>0</td>\n",
       "    </tr>\n",
       "    <tr>\n",
       "      <td>3</td>\n",
       "      <td>1</td>\n",
       "      <td>0</td>\n",
       "      <td>0</td>\n",
       "      <td>0</td>\n",
       "      <td>0</td>\n",
       "      <td>1</td>\n",
       "      <td>0</td>\n",
       "      <td>0</td>\n",
       "      <td>1</td>\n",
       "      <td>0</td>\n",
       "      <td>...</td>\n",
       "      <td>0</td>\n",
       "      <td>0</td>\n",
       "      <td>0</td>\n",
       "      <td>0</td>\n",
       "      <td>0</td>\n",
       "      <td>0</td>\n",
       "      <td>1</td>\n",
       "      <td>0</td>\n",
       "      <td>1</td>\n",
       "      <td>0</td>\n",
       "    </tr>\n",
       "    <tr>\n",
       "      <td>4</td>\n",
       "      <td>1</td>\n",
       "      <td>0</td>\n",
       "      <td>0</td>\n",
       "      <td>0</td>\n",
       "      <td>0</td>\n",
       "      <td>1</td>\n",
       "      <td>0</td>\n",
       "      <td>0</td>\n",
       "      <td>0</td>\n",
       "      <td>1</td>\n",
       "      <td>...</td>\n",
       "      <td>0</td>\n",
       "      <td>0</td>\n",
       "      <td>0</td>\n",
       "      <td>0</td>\n",
       "      <td>0</td>\n",
       "      <td>0</td>\n",
       "      <td>1</td>\n",
       "      <td>0</td>\n",
       "      <td>1</td>\n",
       "      <td>0</td>\n",
       "    </tr>\n",
       "  </tbody>\n",
       "</table>\n",
       "<p>5 rows × 41 columns</p>\n",
       "</div>"
      ],
      "text/plain": [
       "   target  Age_Ab_10  Age_Ab_20  Age_Ab_30  Age_Ab_40  Age_Ab_50  Age_Ab_60  \\\n",
       "0       1          0          0          0          0          0          1   \n",
       "1       1          0          0          1          0          0          0   \n",
       "2       1          0          0          0          1          0          0   \n",
       "3       1          0          0          0          0          1          0   \n",
       "4       1          0          0          0          0          1          0   \n",
       "\n",
       "   Age_Ab_70  Male  Female  ...  Ch_Ab_500  Ch_Ab_300  Ch_Ab_400  Ch_Ab_100  \\\n",
       "0          0     1       0  ...          0          0          0          0   \n",
       "1          0     1       0  ...          0          0          0          0   \n",
       "2          0     0       1  ...          0          0          0          0   \n",
       "3          0     1       0  ...          0          0          0          0   \n",
       "4          0     0       1  ...          0          0          0          0   \n",
       "\n",
       "   Up_Sloping  Flat  Down_Sloping  Normal  Abnormality  \\\n",
       "0           1     0             0       1            0   \n",
       "1           1     0             0       0            1   \n",
       "2           0     0             1       1            0   \n",
       "3           0     0             1       0            1   \n",
       "4           0     0             1       0            1   \n",
       "\n",
       "   Ventricular_hypertrophy  \n",
       "0                        0  \n",
       "1                        0  \n",
       "2                        0  \n",
       "3                        0  \n",
       "4                        0  \n",
       "\n",
       "[5 rows x 41 columns]"
      ]
     },
     "execution_count": 24,
     "metadata": {},
     "output_type": "execute_result"
    }
   ],
   "source": [
    "df.head()"
   ]
  },
  {
   "cell_type": "code",
   "execution_count": 25,
   "metadata": {},
   "outputs": [
    {
     "data": {
      "text/plain": [
       "Index(['target', 'Age_Ab_10', 'Age_Ab_20', 'Age_Ab_30', 'Age_Ab_40',\n",
       "       'Age_Ab_50', 'Age_Ab_60', 'Age_Ab_70', 'Male', 'Female', 'BP_Bl_100',\n",
       "       'BP_Ab_100', 'BP_Ab_110', 'BP_Ab_120', 'BP_Ab_130', 'BP_Ab_140',\n",
       "       'BPs_Ab_150', 'BP_Ab_160', 'BP_Ab_170', 'BPs_Ab_180', 'BP_Ab_190',\n",
       "       'FBS_Ab_120(mg/dl)', 'FBS_Bl_120(mg/dl)', 'Typical_Angina',\n",
       "       'Atypical_Angina', 'Non_Anginal_Pain', 'Asymptomatic', 'Ch_Ab_200',\n",
       "       'Ch_Ab_250', 'Ch_Ab_350', 'Ch_Ab_150', 'Ch_Ab_500', 'Ch_Ab_300',\n",
       "       'Ch_Ab_400', 'Ch_Ab_100', 'Up_Sloping', 'Flat', 'Down_Sloping',\n",
       "       'Normal', 'Abnormality', 'Ventricular_hypertrophy'],\n",
       "      dtype='object')"
      ]
     },
     "execution_count": 25,
     "metadata": {},
     "output_type": "execute_result"
    }
   ],
   "source": [
    "df.columns"
   ]
  },
  {
   "cell_type": "code",
   "execution_count": 26,
   "metadata": {},
   "outputs": [],
   "source": [
    "l1=['Age_Ab_10', 'Age_Ab_20', 'Age_Ab_30', 'Age_Ab_40','Age_Ab_50', 'Age_Ab_60', 'Age_Ab_70']"
   ]
  },
  {
   "cell_type": "code",
   "execution_count": 27,
   "metadata": {},
   "outputs": [],
   "source": [
    "l2=['Male', 'Female']"
   ]
  },
  {
   "cell_type": "code",
   "execution_count": 28,
   "metadata": {},
   "outputs": [],
   "source": [
    "l3=['BP_Bl_100','BP_Ab_100', 'BP_Ab_110', 'BP_Ab_120', 'BP_Ab_130', 'BP_Ab_140','BPs_Ab_150', 'BP_Ab_160', 'BP_Ab_170',\n",
    "'BPs_Ab_180', 'BP_Ab_190']"
   ]
  },
  {
   "cell_type": "code",
   "execution_count": 29,
   "metadata": {},
   "outputs": [],
   "source": [
    "l4=['FBS_Ab_120(mg/dl)', 'FBS_Bl_120(mg/dl)']"
   ]
  },
  {
   "cell_type": "code",
   "execution_count": 30,
   "metadata": {},
   "outputs": [],
   "source": [
    "l5=['Typical_Angina','Atypical_Angina', 'Non_Anginal_Pain', 'Asymptomatic']"
   ]
  },
  {
   "cell_type": "code",
   "execution_count": 31,
   "metadata": {},
   "outputs": [],
   "source": [
    "l6=['Ch_Ab_200','Ch_Ab_250', 'Ch_Ab_350', 'Ch_Ab_150', 'Ch_Ab_500', 'Ch_Ab_300','Ch_Ab_400', 'Ch_Ab_100']"
   ]
  },
  {
   "cell_type": "code",
   "execution_count": 32,
   "metadata": {},
   "outputs": [],
   "source": [
    "l7=['Up_Sloping', 'Flat', 'Down_Sloping']"
   ]
  },
  {
   "cell_type": "code",
   "execution_count": 33,
   "metadata": {},
   "outputs": [],
   "source": [
    "l8=['Normal', 'Abnormality', 'Ventricular_hypertrophy']"
   ]
  },
  {
   "cell_type": "code",
   "execution_count": 34,
   "metadata": {},
   "outputs": [
    {
     "data": {
      "text/plain": [
       "array([1, 0], dtype=int64)"
      ]
     },
     "execution_count": 34,
     "metadata": {},
     "output_type": "execute_result"
    }
   ],
   "source": [
    "df['target'].unique()"
   ]
  },
  {
   "cell_type": "code",
   "execution_count": 35,
   "metadata": {},
   "outputs": [],
   "source": [
    "patient=['Yes', 'No']"
   ]
  },
  {
   "cell_type": "code",
   "execution_count": 36,
   "metadata": {},
   "outputs": [],
   "source": [
    "l10=[ 'Age_Ab_10', 'Age_Ab_20', 'Age_Ab_30', 'Age_Ab_40','Age_Ab_50', 'Age_Ab_60', 'Age_Ab_70', 'Male', 'Female', 'BP_Bl_100',\n",
    "'BP_Ab_100', 'BP_Ab_110', 'BP_Ab_120', 'BP_Ab_130', 'BP_Ab_140','BPs_Ab_150', 'BP_Ab_160', 'BP_Ab_170', 'BPs_Ab_180',\n",
    "'BP_Ab_190','FBS_Ab_120(mg/dl)', 'FBS_Bl_120(mg/dl)', 'Typical_Angina','Atypical_Angina', 'Non_Anginal_Pain', 'Asymptomatic',\n",
    "'Ch_Ab_200','Ch_Ab_250', 'Ch_Ab_350', 'Ch_Ab_150', 'Ch_Ab_500', 'Ch_Ab_300','Ch_Ab_400', 'Ch_Ab_100', 'Up_Sloping', 'Flat',\n",
    "'Down_Sloping','Normal', 'Abnormality', 'Ventricular_hypertrophy' ]"
   ]
  },
  {
   "cell_type": "code",
   "execution_count": 37,
   "metadata": {},
   "outputs": [],
   "source": [
    "l11=[]\n",
    "for x in range(0,len(l10)):\n",
    "    l11.append(0)\n"
   ]
  },
  {
   "cell_type": "code",
   "execution_count": 38,
   "metadata": {},
   "outputs": [
    {
     "data": {
      "text/plain": [
       "array([1, 1, 1, 1, 1, 1, 1, 1, 1, 1, 1, 1, 1, 1, 1, 1, 1, 1, 1, 1, 1, 1,\n",
       "       1, 1, 1, 1, 1, 1, 1, 1, 1, 1, 1, 1, 1, 1, 1, 1, 1, 1, 1, 1, 1, 1,\n",
       "       1, 1, 1, 1, 1, 1, 1, 1, 1, 1, 1, 1, 1, 1, 1, 1, 1, 1, 1, 1, 1, 1,\n",
       "       1, 1, 1, 1, 1, 1, 1, 1, 1, 1, 1, 1, 1, 1, 1, 1, 1, 1, 1, 1, 1, 1,\n",
       "       1, 1, 1, 1, 1, 1, 1, 1, 1, 1, 1, 1, 1, 1, 1, 1, 1, 1, 1, 1, 1, 1,\n",
       "       1, 1, 1, 1, 1, 1, 1, 1, 1, 1, 1, 1, 1, 1, 1, 1, 1, 1, 1, 1, 1, 1,\n",
       "       1, 1, 1, 1, 1, 1, 1, 1, 1, 1, 1, 1, 1, 1, 1, 1, 1, 1, 1, 1, 1, 1,\n",
       "       1, 1, 1, 1, 1, 1, 1, 1, 1, 1, 1, 0, 0, 0, 0, 0, 0, 0, 0, 0, 0, 0,\n",
       "       0, 0, 0, 0, 0, 0, 0, 0, 0, 0, 0, 0, 0, 0, 0, 0, 0, 0, 0, 0, 0, 0,\n",
       "       0, 0, 0, 0, 0, 0, 0, 0, 0, 0, 0, 0, 0, 0, 0, 0, 0, 0, 0, 0, 0, 0,\n",
       "       0, 0, 0, 0, 0, 0, 0, 0, 0, 0, 0, 0, 0, 0, 0, 0, 0, 0, 0, 0, 0, 0,\n",
       "       0, 0, 0, 0, 0, 0, 0, 0, 0, 0, 0, 0, 0, 0, 0, 0, 0, 0, 0, 0, 0, 0,\n",
       "       0, 0, 0, 0, 0, 0, 0, 0, 0, 0, 0, 0, 0, 0, 0, 0, 0, 0, 0, 0, 0, 0,\n",
       "       0, 0, 0, 0, 0, 0, 0, 0, 0, 0, 0, 0, 0, 0, 0, 0, 0], dtype=int64)"
      ]
     },
     "execution_count": 38,
     "metadata": {},
     "output_type": "execute_result"
    }
   ],
   "source": [
    "X= df[l10]\n",
    "\n",
    "\n",
    "y = df[[\"target\"]]\n",
    "np.ravel(y)"
   ]
  },
  {
   "cell_type": "code",
   "execution_count": 39,
   "metadata": {},
   "outputs": [
    {
     "data": {
      "text/plain": [
       "array([1, 1, 1, 1, 1, 1, 1, 1, 1, 1, 1, 1, 1, 1, 1, 1, 1, 1, 1, 1, 1, 1,\n",
       "       1, 1, 1, 1, 1, 1, 1, 1, 1, 1, 1, 1, 1, 1, 1, 1, 1, 1, 1, 1, 1, 1,\n",
       "       1, 1, 1, 1, 1, 1, 1, 1, 1, 1, 1, 1, 1, 1, 1, 1, 1, 1, 1, 1, 1, 1,\n",
       "       1, 1, 1, 1, 1, 1, 1, 1, 1, 1, 1, 1, 1, 1, 1, 1, 1, 1, 1, 1, 1, 1,\n",
       "       1, 1, 1, 1, 1, 1, 1, 1, 1, 1, 1, 1, 1, 1, 1, 1, 1, 1, 1, 1, 1, 1,\n",
       "       1, 1, 1, 1, 1, 1, 1, 1, 1, 1, 1, 1, 1, 1, 1, 1, 1, 1, 1, 1, 1, 1,\n",
       "       1, 1, 1, 1, 1, 1, 1, 1, 1, 1, 1, 1, 1, 1, 1, 1, 1, 1, 1, 1, 1, 1,\n",
       "       1, 1, 1, 1, 1, 1, 1, 1, 1, 1, 1, 0, 0, 0, 0, 0, 0, 0, 0, 0, 0, 0,\n",
       "       0, 0, 0, 0, 0, 0, 0, 0, 0, 0, 0, 0, 0, 0, 0, 0, 0, 0, 0, 0, 0, 0,\n",
       "       0, 0, 0, 0, 0, 0, 0, 0, 0, 0, 0, 0, 0, 0, 0, 0, 0, 0, 0, 0, 0, 0,\n",
       "       0, 0, 0, 0, 0, 0, 0, 0, 0, 0, 0, 0, 0, 0, 0, 0, 0, 0, 0, 0, 0, 0,\n",
       "       0, 0, 0, 0, 0, 0, 0, 0, 0, 0, 0, 0, 0, 0, 0, 0, 0, 0, 0, 0, 0, 0,\n",
       "       0, 0, 0, 0, 0, 0, 0, 0, 0, 0, 0, 0, 0, 0, 0, 0, 0, 0, 0, 0, 0, 0,\n",
       "       0, 0, 0, 0, 0, 0, 0, 0, 0, 0, 0, 0, 0, 0, 0, 0, 0], dtype=int64)"
      ]
     },
     "execution_count": 39,
     "metadata": {},
     "output_type": "execute_result"
    }
   ],
   "source": [
    "X_test= df[l10]\n",
    "y_test = df[[\"target\"]]\n",
    "np.ravel(y_test)"
   ]
  },
  {
   "cell_type": "code",
   "execution_count": 40,
   "metadata": {},
   "outputs": [],
   "source": [
    "from sklearn.model_selection import cross_val_score\n",
    "from sklearn.linear_model import LogisticRegression"
   ]
  },
  {
   "cell_type": "code",
   "execution_count": 41,
   "metadata": {},
   "outputs": [],
   "source": [
    "def vc():\n",
    "    from sklearn.ensemble import VotingClassifier\n",
    "    estimators = []  \n",
    "    model1 = LogisticRegression()\n",
    "    estimators.append(('LogisticRegression', model1))\n",
    "    # create the ensemble model\n",
    "    ensemble = VotingClassifier(estimators)\n",
    "    # empty model of the decision tree\n",
    "    ensemble = ensemble.fit(X,y)\n",
    "\n",
    "    # calculating accuracy-------------------------------------------------------------------\n",
    "    from sklearn.metrics import accuracy_score\n",
    "    y_pred=ensemble.predict(X_test)\n",
    "    #print(accuracy_score(y_test, y_pred))\n",
    "    #print(accuracy_score(y_test, y_pred,normalize=False))\n",
    "    # -----------------------------------------------------\n",
    "\n",
    "    terms = [age.get(),gen.get(),bp.get(),fbs.get(),cp.get(),chl.get(),sl.get(),recg.get()]\n",
    "\n",
    "    for k in range(0,len(l10)):\n",
    "        # print (k,)\n",
    "        for z in terms:\n",
    "            if(z==l10[k]):\n",
    "                l11[k]=1\n",
    "\n",
    "                inputtest = [l11]\n",
    "                predict = ensemble.predict(inputtest)\n",
    "                predicted=predict[0]\n",
    "\n",
    "                h='no'\n",
    "                for a in range(0,len(patient)):\n",
    "                    if(predicted == a):\n",
    "                        h='yes'\n",
    "                        break\n",
    "\n",
    "\n",
    "                if (h=='yes'):\n",
    "                    t1.delete(\"1.0\", END)\n",
    "                    t1.insert(END, patient[a])\n",
    "                else:\n",
    "                    t1.delete(\"1.0\", END)\n",
    "                    t1.insert(END, \"Not Found\")\n"
   ]
  },
  {
   "cell_type": "code",
   "execution_count": 42,
   "metadata": {},
   "outputs": [
    {
     "data": {
      "text/plain": [
       "''"
      ]
     },
     "execution_count": 42,
     "metadata": {},
     "output_type": "execute_result"
    }
   ],
   "source": [
    "\n",
    "root = Tk()\n",
    "root.title(\"Heart disease Prediction\")\n",
    "#root.configure(background='black')"
   ]
  },
  {
   "cell_type": "code",
   "execution_count": 43,
   "metadata": {},
   "outputs": [
    {
     "data": {
      "text/plain": [
       "1"
      ]
     },
     "execution_count": 43,
     "metadata": {},
     "output_type": "execute_result"
    }
   ],
   "source": [
    "\n",
    "canvas = Canvas(root,width=1920,height=1200)\n",
    "canvas.pack()\n",
    "photo = PhotoImage(file ='im4.png')\n",
    "canvas.create_image(0,0,image=photo,anchor=NW)\n"
   ]
  },
  {
   "cell_type": "code",
   "execution_count": 44,
   "metadata": {},
   "outputs": [],
   "source": [
    "\n",
    "# entry variables\n",
    "\n",
    "age = StringVar()\n",
    "age.set(None)\n",
    "\n",
    "gen = StringVar()\n",
    "gen.set(None)\n",
    "\n",
    "bp = StringVar()\n",
    "bp.set(None)\n",
    "\n",
    "fbs = StringVar()\n",
    "fbs.set(None)\n",
    "\n",
    "cp = StringVar()\n",
    "cp.set(None)\n",
    "\n",
    "chl = StringVar()\n",
    "chl.set(None)\n",
    "\n",
    "sl = StringVar()\n",
    "sl.set(None)\n",
    "\n",
    "recg = StringVar()\n",
    "recg.set(None)\n",
    "\n"
   ]
  },
  {
   "cell_type": "code",
   "execution_count": 45,
   "metadata": {},
   "outputs": [],
   "source": [
    "\n",
    "# Heading\n",
    "w2 = Label(canvas, justify=LEFT, text=\"Heart Disease Prediction using Voting Classifier Method\", fg=\"white\", bg=\"red\")\n",
    "w2.config(font=(\"Elephant\", 20))\n",
    "w2.grid(row=1, column=0, columnspan=2, padx=100)\n",
    "w2 = Label(canvas, justify=LEFT, text=\"(Demo Hospital Department Dataset)\", fg=\"green\")\n",
    "w2.config(font=(\"Times Roman\", 15))\n",
    "w2.grid(row=2, column=0, columnspan=2, padx=100)"
   ]
  },
  {
   "cell_type": "code",
   "execution_count": 46,
   "metadata": {},
   "outputs": [],
   "source": [
    "\n",
    "\n",
    "# labels\n",
    "genLb = Label(canvas, text=\"Gender:\",fg=\"yellow\", bg=\"black\")\n",
    "genLb.grid(row=5, column=0, pady=15, sticky=W)\n",
    "\n",
    "ageLb = Label(canvas, text=\"Age:\",fg=\"yellow\", bg=\"black\")\n",
    "ageLb.grid(row=6, column=0, pady=15, sticky=W)\n",
    "\n",
    "bpLb = Label(canvas, text=\"Resting BP(mm/Hg):\",fg=\"yellow\", bg=\"black\")\n",
    "bpLb.grid(row=7, column=0, pady=15, sticky=W)\n",
    "\n",
    "fbsLb = Label(canvas, text=\"Fasting Blood sugar(> 120 mg/dl):\",fg=\"yellow\", bg=\"black\")\n",
    "fbsLb.grid(row=8, column=0, pady=15, sticky=W)\n",
    "\n",
    "cpLb = Label(canvas, text=\"Chest Pain:\",fg=\"yellow\", bg=\"black\")\n",
    "cpLb.grid(row=5, column=1, pady=15, sticky=W)\n",
    "\n",
    "chlLb = Label(canvas, text=\"Serum Cholestoral(mg/dl):\",fg=\"yellow\", bg=\"black\")\n",
    "chlLb.grid(row=6, column=1, pady=15, sticky=W)\n",
    "\n",
    "slLb = Label(canvas, text=\"Slope Level:\",fg=\"yellow\", bg=\"black\")\n",
    "slLb.grid(row=7, column=1, pady=15, sticky=W)\n",
    "\n",
    "recgLb = Label(canvas, text=\"Resting Electrocardiographic:\",fg=\"yellow\", bg=\"black\")\n",
    "recgLb.grid(row=8, column=1, pady=15, sticky=W)\n",
    "\n"
   ]
  },
  {
   "cell_type": "code",
   "execution_count": 47,
   "metadata": {},
   "outputs": [],
   "source": [
    "vcLb = Label(canvas, text=\"VC\", fg=\"white\", bg=\"red\")\n",
    "vcLb.grid(row=10, column=0, pady=10,sticky=W)"
   ]
  },
  {
   "cell_type": "code",
   "execution_count": 48,
   "metadata": {},
   "outputs": [],
   "source": [
    "# entries\n",
    "OPTIONS1 = sorted(l1)\n",
    "OPTIONS2 = sorted(l2)\n",
    "OPTIONS3 = sorted(l3)\n",
    "OPTIONS4 = sorted(l4)\n",
    "OPTIONS5 = sorted(l5)\n",
    "OPTIONS6 = sorted(l6)\n",
    "OPTIONS7 = sorted(l7)\n",
    "OPTIONS8 = sorted(l8)\n",
    "\n"
   ]
  },
  {
   "cell_type": "code",
   "execution_count": 49,
   "metadata": {},
   "outputs": [],
   "source": [
    "\n",
    "genEn = OptionMenu(canvas, gen,*OPTIONS2)\n",
    "genEn.grid(row=5, column=0)\n",
    "\n",
    "ageEn = OptionMenu(canvas, age,*OPTIONS1)\n",
    "ageEn.grid(row=6, column=0)\n",
    "\n",
    "bpEn = OptionMenu(canvas, bp,*OPTIONS3)\n",
    "bpEn.grid(row=7, column=0)\n",
    "\n",
    "fbsEn = OptionMenu(canvas, fbs,*OPTIONS4)\n",
    "fbsEn.grid(row=8, column=0)\n",
    "\n",
    "cpEn = OptionMenu(canvas, cp,*OPTIONS5)\n",
    "cpEn.grid(row=5, column=1)\n",
    "\n",
    "chlEn = OptionMenu(canvas, chl,*OPTIONS6)\n",
    "chlEn.grid(row=6, column=1)\n",
    "\n",
    "slEn = OptionMenu(canvas, sl,*OPTIONS7)\n",
    "slEn.grid(row=7, column=1)\n",
    "\n",
    "recgEn = OptionMenu(canvas, recg,*OPTIONS8)\n",
    "recgEn.grid(row=8, column=1)\n",
    "\n"
   ]
  },
  {
   "cell_type": "code",
   "execution_count": 50,
   "metadata": {},
   "outputs": [],
   "source": [
    "def clear_display_result():\n",
    "    t1.delete('1.0',END)"
   ]
  },
  {
   "cell_type": "code",
   "execution_count": 51,
   "metadata": {},
   "outputs": [],
   "source": [
    "vc = Button(canvas, text=\"Check the result!\", command=vc,bg=\"cyan\",fg=\"green\")\n",
    "vc.grid(row=10, column=1,padx=10)\n",
    "b = Button(canvas, text=\"Reset\", command=clear_display_result,bg=\"red\",fg=\"white\")\n",
    "b.grid(row=10, column=2,padx=10)"
   ]
  },
  {
   "cell_type": "code",
   "execution_count": 52,
   "metadata": {},
   "outputs": [],
   "source": [
    "\n",
    "#textfileds\n",
    "t1 = Text(canvas, height=1, width=40,bg=\"orange\",fg=\"black\")\n",
    "t1.grid(row=10, column=0, padx=10)\n",
    "\n",
    "root.mainloop()"
   ]
  },
  {
   "cell_type": "code",
   "execution_count": null,
   "metadata": {},
   "outputs": [],
   "source": []
  },
  {
   "cell_type": "code",
   "execution_count": null,
   "metadata": {},
   "outputs": [],
   "source": []
  },
  {
   "cell_type": "code",
   "execution_count": null,
   "metadata": {},
   "outputs": [],
   "source": []
  },
  {
   "cell_type": "code",
   "execution_count": null,
   "metadata": {},
   "outputs": [],
   "source": []
  },
  {
   "cell_type": "code",
   "execution_count": null,
   "metadata": {},
   "outputs": [],
   "source": []
  },
  {
   "cell_type": "code",
   "execution_count": null,
   "metadata": {},
   "outputs": [],
   "source": []
  },
  {
   "cell_type": "code",
   "execution_count": null,
   "metadata": {},
   "outputs": [],
   "source": []
  },
  {
   "cell_type": "code",
   "execution_count": null,
   "metadata": {},
   "outputs": [],
   "source": []
  }
 ],
 "metadata": {
  "kernelspec": {
   "display_name": "Python 3",
   "language": "python",
   "name": "python3"
  },
  "language_info": {
   "codemirror_mode": {
    "name": "ipython",
    "version": 3
   },
   "file_extension": ".py",
   "mimetype": "text/x-python",
   "name": "python",
   "nbconvert_exporter": "python",
   "pygments_lexer": "ipython3",
   "version": "3.7.4"
  }
 },
 "nbformat": 4,
 "nbformat_minor": 2
}
